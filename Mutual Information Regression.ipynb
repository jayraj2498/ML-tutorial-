{
 "cells": [
  {
   "cell_type": "code",
   "execution_count": 1,
   "id": "57d8b1af",
   "metadata": {},
   "outputs": [],
   "source": [
    "import pandas as pd\n",
    "import numpy as np"
   ]
  },
  {
   "cell_type": "code",
   "execution_count": 2,
   "id": "6f16bea5",
   "metadata": {},
   "outputs": [],
   "source": [
    "#https://www.kaggle.com/c/house-prices-advanced-regression-techniques/data\n",
    "import pandas as pd\n",
    "housing_df=pd.read_csv('E:\\My Documents\\Machine Learning\\DataSets/housing.csv')"
   ]
  },
  {
   "cell_type": "code",
   "execution_count": 3,
   "id": "a073f2ec",
   "metadata": {},
   "outputs": [
    {
     "data": {
      "text/html": [
       "<div>\n",
       "<style scoped>\n",
       "    .dataframe tbody tr th:only-of-type {\n",
       "        vertical-align: middle;\n",
       "    }\n",
       "\n",
       "    .dataframe tbody tr th {\n",
       "        vertical-align: top;\n",
       "    }\n",
       "\n",
       "    .dataframe thead th {\n",
       "        text-align: right;\n",
       "    }\n",
       "</style>\n",
       "<table border=\"1\" class=\"dataframe\">\n",
       "  <thead>\n",
       "    <tr style=\"text-align: right;\">\n",
       "      <th></th>\n",
       "      <th>Id</th>\n",
       "      <th>MSSubClass</th>\n",
       "      <th>MSZoning</th>\n",
       "      <th>LotFrontage</th>\n",
       "      <th>LotArea</th>\n",
       "      <th>Street</th>\n",
       "      <th>Alley</th>\n",
       "      <th>LotShape</th>\n",
       "      <th>LandContour</th>\n",
       "      <th>Utilities</th>\n",
       "      <th>...</th>\n",
       "      <th>PoolArea</th>\n",
       "      <th>PoolQC</th>\n",
       "      <th>Fence</th>\n",
       "      <th>MiscFeature</th>\n",
       "      <th>MiscVal</th>\n",
       "      <th>MoSold</th>\n",
       "      <th>YrSold</th>\n",
       "      <th>SaleType</th>\n",
       "      <th>SaleCondition</th>\n",
       "      <th>SalePrice</th>\n",
       "    </tr>\n",
       "  </thead>\n",
       "  <tbody>\n",
       "    <tr>\n",
       "      <th>0</th>\n",
       "      <td>1</td>\n",
       "      <td>60</td>\n",
       "      <td>RL</td>\n",
       "      <td>65.0</td>\n",
       "      <td>8450</td>\n",
       "      <td>Pave</td>\n",
       "      <td>NaN</td>\n",
       "      <td>Reg</td>\n",
       "      <td>Lvl</td>\n",
       "      <td>AllPub</td>\n",
       "      <td>...</td>\n",
       "      <td>0</td>\n",
       "      <td>NaN</td>\n",
       "      <td>NaN</td>\n",
       "      <td>NaN</td>\n",
       "      <td>0</td>\n",
       "      <td>2</td>\n",
       "      <td>2008</td>\n",
       "      <td>WD</td>\n",
       "      <td>Normal</td>\n",
       "      <td>208500</td>\n",
       "    </tr>\n",
       "    <tr>\n",
       "      <th>1</th>\n",
       "      <td>2</td>\n",
       "      <td>20</td>\n",
       "      <td>RL</td>\n",
       "      <td>80.0</td>\n",
       "      <td>9600</td>\n",
       "      <td>Pave</td>\n",
       "      <td>NaN</td>\n",
       "      <td>Reg</td>\n",
       "      <td>Lvl</td>\n",
       "      <td>AllPub</td>\n",
       "      <td>...</td>\n",
       "      <td>0</td>\n",
       "      <td>NaN</td>\n",
       "      <td>NaN</td>\n",
       "      <td>NaN</td>\n",
       "      <td>0</td>\n",
       "      <td>5</td>\n",
       "      <td>2007</td>\n",
       "      <td>WD</td>\n",
       "      <td>Normal</td>\n",
       "      <td>181500</td>\n",
       "    </tr>\n",
       "    <tr>\n",
       "      <th>2</th>\n",
       "      <td>3</td>\n",
       "      <td>60</td>\n",
       "      <td>RL</td>\n",
       "      <td>68.0</td>\n",
       "      <td>11250</td>\n",
       "      <td>Pave</td>\n",
       "      <td>NaN</td>\n",
       "      <td>IR1</td>\n",
       "      <td>Lvl</td>\n",
       "      <td>AllPub</td>\n",
       "      <td>...</td>\n",
       "      <td>0</td>\n",
       "      <td>NaN</td>\n",
       "      <td>NaN</td>\n",
       "      <td>NaN</td>\n",
       "      <td>0</td>\n",
       "      <td>9</td>\n",
       "      <td>2008</td>\n",
       "      <td>WD</td>\n",
       "      <td>Normal</td>\n",
       "      <td>223500</td>\n",
       "    </tr>\n",
       "    <tr>\n",
       "      <th>3</th>\n",
       "      <td>4</td>\n",
       "      <td>70</td>\n",
       "      <td>RL</td>\n",
       "      <td>60.0</td>\n",
       "      <td>9550</td>\n",
       "      <td>Pave</td>\n",
       "      <td>NaN</td>\n",
       "      <td>IR1</td>\n",
       "      <td>Lvl</td>\n",
       "      <td>AllPub</td>\n",
       "      <td>...</td>\n",
       "      <td>0</td>\n",
       "      <td>NaN</td>\n",
       "      <td>NaN</td>\n",
       "      <td>NaN</td>\n",
       "      <td>0</td>\n",
       "      <td>2</td>\n",
       "      <td>2006</td>\n",
       "      <td>WD</td>\n",
       "      <td>Abnorml</td>\n",
       "      <td>140000</td>\n",
       "    </tr>\n",
       "    <tr>\n",
       "      <th>4</th>\n",
       "      <td>5</td>\n",
       "      <td>60</td>\n",
       "      <td>RL</td>\n",
       "      <td>84.0</td>\n",
       "      <td>14260</td>\n",
       "      <td>Pave</td>\n",
       "      <td>NaN</td>\n",
       "      <td>IR1</td>\n",
       "      <td>Lvl</td>\n",
       "      <td>AllPub</td>\n",
       "      <td>...</td>\n",
       "      <td>0</td>\n",
       "      <td>NaN</td>\n",
       "      <td>NaN</td>\n",
       "      <td>NaN</td>\n",
       "      <td>0</td>\n",
       "      <td>12</td>\n",
       "      <td>2008</td>\n",
       "      <td>WD</td>\n",
       "      <td>Normal</td>\n",
       "      <td>250000</td>\n",
       "    </tr>\n",
       "    <tr>\n",
       "      <th>...</th>\n",
       "      <td>...</td>\n",
       "      <td>...</td>\n",
       "      <td>...</td>\n",
       "      <td>...</td>\n",
       "      <td>...</td>\n",
       "      <td>...</td>\n",
       "      <td>...</td>\n",
       "      <td>...</td>\n",
       "      <td>...</td>\n",
       "      <td>...</td>\n",
       "      <td>...</td>\n",
       "      <td>...</td>\n",
       "      <td>...</td>\n",
       "      <td>...</td>\n",
       "      <td>...</td>\n",
       "      <td>...</td>\n",
       "      <td>...</td>\n",
       "      <td>...</td>\n",
       "      <td>...</td>\n",
       "      <td>...</td>\n",
       "      <td>...</td>\n",
       "    </tr>\n",
       "    <tr>\n",
       "      <th>1455</th>\n",
       "      <td>1456</td>\n",
       "      <td>60</td>\n",
       "      <td>RL</td>\n",
       "      <td>62.0</td>\n",
       "      <td>7917</td>\n",
       "      <td>Pave</td>\n",
       "      <td>NaN</td>\n",
       "      <td>Reg</td>\n",
       "      <td>Lvl</td>\n",
       "      <td>AllPub</td>\n",
       "      <td>...</td>\n",
       "      <td>0</td>\n",
       "      <td>NaN</td>\n",
       "      <td>NaN</td>\n",
       "      <td>NaN</td>\n",
       "      <td>0</td>\n",
       "      <td>8</td>\n",
       "      <td>2007</td>\n",
       "      <td>WD</td>\n",
       "      <td>Normal</td>\n",
       "      <td>175000</td>\n",
       "    </tr>\n",
       "    <tr>\n",
       "      <th>1456</th>\n",
       "      <td>1457</td>\n",
       "      <td>20</td>\n",
       "      <td>RL</td>\n",
       "      <td>85.0</td>\n",
       "      <td>13175</td>\n",
       "      <td>Pave</td>\n",
       "      <td>NaN</td>\n",
       "      <td>Reg</td>\n",
       "      <td>Lvl</td>\n",
       "      <td>AllPub</td>\n",
       "      <td>...</td>\n",
       "      <td>0</td>\n",
       "      <td>NaN</td>\n",
       "      <td>MnPrv</td>\n",
       "      <td>NaN</td>\n",
       "      <td>0</td>\n",
       "      <td>2</td>\n",
       "      <td>2010</td>\n",
       "      <td>WD</td>\n",
       "      <td>Normal</td>\n",
       "      <td>210000</td>\n",
       "    </tr>\n",
       "    <tr>\n",
       "      <th>1457</th>\n",
       "      <td>1458</td>\n",
       "      <td>70</td>\n",
       "      <td>RL</td>\n",
       "      <td>66.0</td>\n",
       "      <td>9042</td>\n",
       "      <td>Pave</td>\n",
       "      <td>NaN</td>\n",
       "      <td>Reg</td>\n",
       "      <td>Lvl</td>\n",
       "      <td>AllPub</td>\n",
       "      <td>...</td>\n",
       "      <td>0</td>\n",
       "      <td>NaN</td>\n",
       "      <td>GdPrv</td>\n",
       "      <td>Shed</td>\n",
       "      <td>2500</td>\n",
       "      <td>5</td>\n",
       "      <td>2010</td>\n",
       "      <td>WD</td>\n",
       "      <td>Normal</td>\n",
       "      <td>266500</td>\n",
       "    </tr>\n",
       "    <tr>\n",
       "      <th>1458</th>\n",
       "      <td>1459</td>\n",
       "      <td>20</td>\n",
       "      <td>RL</td>\n",
       "      <td>68.0</td>\n",
       "      <td>9717</td>\n",
       "      <td>Pave</td>\n",
       "      <td>NaN</td>\n",
       "      <td>Reg</td>\n",
       "      <td>Lvl</td>\n",
       "      <td>AllPub</td>\n",
       "      <td>...</td>\n",
       "      <td>0</td>\n",
       "      <td>NaN</td>\n",
       "      <td>NaN</td>\n",
       "      <td>NaN</td>\n",
       "      <td>0</td>\n",
       "      <td>4</td>\n",
       "      <td>2010</td>\n",
       "      <td>WD</td>\n",
       "      <td>Normal</td>\n",
       "      <td>142125</td>\n",
       "    </tr>\n",
       "    <tr>\n",
       "      <th>1459</th>\n",
       "      <td>1460</td>\n",
       "      <td>20</td>\n",
       "      <td>RL</td>\n",
       "      <td>75.0</td>\n",
       "      <td>9937</td>\n",
       "      <td>Pave</td>\n",
       "      <td>NaN</td>\n",
       "      <td>Reg</td>\n",
       "      <td>Lvl</td>\n",
       "      <td>AllPub</td>\n",
       "      <td>...</td>\n",
       "      <td>0</td>\n",
       "      <td>NaN</td>\n",
       "      <td>NaN</td>\n",
       "      <td>NaN</td>\n",
       "      <td>0</td>\n",
       "      <td>6</td>\n",
       "      <td>2008</td>\n",
       "      <td>WD</td>\n",
       "      <td>Normal</td>\n",
       "      <td>147500</td>\n",
       "    </tr>\n",
       "  </tbody>\n",
       "</table>\n",
       "<p>1460 rows × 81 columns</p>\n",
       "</div>"
      ],
      "text/plain": [
       "        Id  MSSubClass MSZoning  LotFrontage  LotArea Street Alley LotShape  \\\n",
       "0        1          60       RL         65.0     8450   Pave   NaN      Reg   \n",
       "1        2          20       RL         80.0     9600   Pave   NaN      Reg   \n",
       "2        3          60       RL         68.0    11250   Pave   NaN      IR1   \n",
       "3        4          70       RL         60.0     9550   Pave   NaN      IR1   \n",
       "4        5          60       RL         84.0    14260   Pave   NaN      IR1   \n",
       "...    ...         ...      ...          ...      ...    ...   ...      ...   \n",
       "1455  1456          60       RL         62.0     7917   Pave   NaN      Reg   \n",
       "1456  1457          20       RL         85.0    13175   Pave   NaN      Reg   \n",
       "1457  1458          70       RL         66.0     9042   Pave   NaN      Reg   \n",
       "1458  1459          20       RL         68.0     9717   Pave   NaN      Reg   \n",
       "1459  1460          20       RL         75.0     9937   Pave   NaN      Reg   \n",
       "\n",
       "     LandContour Utilities  ... PoolArea PoolQC  Fence MiscFeature MiscVal  \\\n",
       "0            Lvl    AllPub  ...        0    NaN    NaN         NaN       0   \n",
       "1            Lvl    AllPub  ...        0    NaN    NaN         NaN       0   \n",
       "2            Lvl    AllPub  ...        0    NaN    NaN         NaN       0   \n",
       "3            Lvl    AllPub  ...        0    NaN    NaN         NaN       0   \n",
       "4            Lvl    AllPub  ...        0    NaN    NaN         NaN       0   \n",
       "...          ...       ...  ...      ...    ...    ...         ...     ...   \n",
       "1455         Lvl    AllPub  ...        0    NaN    NaN         NaN       0   \n",
       "1456         Lvl    AllPub  ...        0    NaN  MnPrv         NaN       0   \n",
       "1457         Lvl    AllPub  ...        0    NaN  GdPrv        Shed    2500   \n",
       "1458         Lvl    AllPub  ...        0    NaN    NaN         NaN       0   \n",
       "1459         Lvl    AllPub  ...        0    NaN    NaN         NaN       0   \n",
       "\n",
       "     MoSold YrSold  SaleType  SaleCondition  SalePrice  \n",
       "0         2   2008        WD         Normal     208500  \n",
       "1         5   2007        WD         Normal     181500  \n",
       "2         9   2008        WD         Normal     223500  \n",
       "3         2   2006        WD        Abnorml     140000  \n",
       "4        12   2008        WD         Normal     250000  \n",
       "...     ...    ...       ...            ...        ...  \n",
       "1455      8   2007        WD         Normal     175000  \n",
       "1456      2   2010        WD         Normal     210000  \n",
       "1457      5   2010        WD         Normal     266500  \n",
       "1458      4   2010        WD         Normal     142125  \n",
       "1459      6   2008        WD         Normal     147500  \n",
       "\n",
       "[1460 rows x 81 columns]"
      ]
     },
     "execution_count": 3,
     "metadata": {},
     "output_type": "execute_result"
    }
   ],
   "source": [
    "housing_df"
   ]
  },
  {
   "cell_type": "code",
   "execution_count": null,
   "id": "4606ce18",
   "metadata": {},
   "outputs": [],
   "source": []
  },
  {
   "cell_type": "code",
   "execution_count": 7,
   "id": "a997de0b",
   "metadata": {},
   "outputs": [
    {
     "data": {
      "text/plain": [
       "Index(['Id', 'MSSubClass', 'MSZoning', 'LotFrontage', 'LotArea', 'Street',\n",
       "       'Alley', 'LotShape', 'LandContour', 'Utilities', 'LotConfig',\n",
       "       'LandSlope', 'Neighborhood', 'Condition1', 'Condition2', 'BldgType',\n",
       "       'HouseStyle', 'OverallQual', 'OverallCond', 'YearBuilt', 'YearRemodAdd',\n",
       "       'RoofStyle', 'RoofMatl', 'Exterior1st', 'Exterior2nd', 'MasVnrType',\n",
       "       'MasVnrArea', 'ExterQual', 'ExterCond', 'Foundation', 'BsmtQual',\n",
       "       'BsmtCond', 'BsmtExposure', 'BsmtFinType1', 'BsmtFinSF1',\n",
       "       'BsmtFinType2', 'BsmtFinSF2', 'BsmtUnfSF', 'TotalBsmtSF', 'Heating',\n",
       "       'HeatingQC', 'CentralAir', 'Electrical', '1stFlrSF', '2ndFlrSF',\n",
       "       'LowQualFinSF', 'GrLivArea', 'BsmtFullBath', 'BsmtHalfBath', 'FullBath',\n",
       "       'HalfBath', 'BedroomAbvGr', 'KitchenAbvGr', 'KitchenQual',\n",
       "       'TotRmsAbvGrd', 'Functional', 'Fireplaces', 'FireplaceQu', 'GarageType',\n",
       "       'GarageYrBlt', 'GarageFinish', 'GarageCars', 'GarageArea', 'GarageQual',\n",
       "       'GarageCond', 'PavedDrive', 'WoodDeckSF', 'OpenPorchSF',\n",
       "       'EnclosedPorch', '3SsnPorch', 'ScreenPorch', 'PoolArea', 'PoolQC',\n",
       "       'Fence', 'MiscFeature', 'MiscVal', 'MoSold', 'YrSold', 'SaleType',\n",
       "       'SaleCondition', 'SalePrice'],\n",
       "      dtype='object')"
      ]
     },
     "execution_count": 7,
     "metadata": {},
     "output_type": "execute_result"
    }
   ],
   "source": [
    "housing_df.columns"
   ]
  },
  {
   "cell_type": "code",
   "execution_count": 9,
   "id": "2d60efa3",
   "metadata": {},
   "outputs": [],
   "source": [
    "null_value_columns = housing_df.columns[housing_df.isnull().sum() > 0]"
   ]
  },
  {
   "cell_type": "code",
   "execution_count": 10,
   "id": "d01251b6",
   "metadata": {},
   "outputs": [],
   "source": [
    "housing_df.drop(null_value_columns,inplace=True,axis = 1)"
   ]
  },
  {
   "cell_type": "code",
   "execution_count": 12,
   "id": "c23a069c",
   "metadata": {},
   "outputs": [
    {
     "name": "stdout",
     "output_type": "stream",
     "text": [
      "<class 'pandas.core.frame.DataFrame'>\n",
      "RangeIndex: 1460 entries, 0 to 1459\n",
      "Data columns (total 62 columns):\n",
      " #   Column         Non-Null Count  Dtype \n",
      "---  ------         --------------  ----- \n",
      " 0   Id             1460 non-null   int64 \n",
      " 1   MSSubClass     1460 non-null   int64 \n",
      " 2   MSZoning       1460 non-null   object\n",
      " 3   LotArea        1460 non-null   int64 \n",
      " 4   Street         1460 non-null   object\n",
      " 5   LotShape       1460 non-null   object\n",
      " 6   LandContour    1460 non-null   object\n",
      " 7   Utilities      1460 non-null   object\n",
      " 8   LotConfig      1460 non-null   object\n",
      " 9   LandSlope      1460 non-null   object\n",
      " 10  Neighborhood   1460 non-null   object\n",
      " 11  Condition1     1460 non-null   object\n",
      " 12  Condition2     1460 non-null   object\n",
      " 13  BldgType       1460 non-null   object\n",
      " 14  HouseStyle     1460 non-null   object\n",
      " 15  OverallQual    1460 non-null   int64 \n",
      " 16  OverallCond    1460 non-null   int64 \n",
      " 17  YearBuilt      1460 non-null   int64 \n",
      " 18  YearRemodAdd   1460 non-null   int64 \n",
      " 19  RoofStyle      1460 non-null   object\n",
      " 20  RoofMatl       1460 non-null   object\n",
      " 21  Exterior1st    1460 non-null   object\n",
      " 22  Exterior2nd    1460 non-null   object\n",
      " 23  ExterQual      1460 non-null   object\n",
      " 24  ExterCond      1460 non-null   object\n",
      " 25  Foundation     1460 non-null   object\n",
      " 26  BsmtFinSF1     1460 non-null   int64 \n",
      " 27  BsmtFinSF2     1460 non-null   int64 \n",
      " 28  BsmtUnfSF      1460 non-null   int64 \n",
      " 29  TotalBsmtSF    1460 non-null   int64 \n",
      " 30  Heating        1460 non-null   object\n",
      " 31  HeatingQC      1460 non-null   object\n",
      " 32  CentralAir     1460 non-null   object\n",
      " 33  1stFlrSF       1460 non-null   int64 \n",
      " 34  2ndFlrSF       1460 non-null   int64 \n",
      " 35  LowQualFinSF   1460 non-null   int64 \n",
      " 36  GrLivArea      1460 non-null   int64 \n",
      " 37  BsmtFullBath   1460 non-null   int64 \n",
      " 38  BsmtHalfBath   1460 non-null   int64 \n",
      " 39  FullBath       1460 non-null   int64 \n",
      " 40  HalfBath       1460 non-null   int64 \n",
      " 41  BedroomAbvGr   1460 non-null   int64 \n",
      " 42  KitchenAbvGr   1460 non-null   int64 \n",
      " 43  KitchenQual    1460 non-null   object\n",
      " 44  TotRmsAbvGrd   1460 non-null   int64 \n",
      " 45  Functional     1460 non-null   object\n",
      " 46  Fireplaces     1460 non-null   int64 \n",
      " 47  GarageCars     1460 non-null   int64 \n",
      " 48  GarageArea     1460 non-null   int64 \n",
      " 49  PavedDrive     1460 non-null   object\n",
      " 50  WoodDeckSF     1460 non-null   int64 \n",
      " 51  OpenPorchSF    1460 non-null   int64 \n",
      " 52  EnclosedPorch  1460 non-null   int64 \n",
      " 53  3SsnPorch      1460 non-null   int64 \n",
      " 54  ScreenPorch    1460 non-null   int64 \n",
      " 55  PoolArea       1460 non-null   int64 \n",
      " 56  MiscVal        1460 non-null   int64 \n",
      " 57  MoSold         1460 non-null   int64 \n",
      " 58  YrSold         1460 non-null   int64 \n",
      " 59  SaleType       1460 non-null   object\n",
      " 60  SaleCondition  1460 non-null   object\n",
      " 61  SalePrice      1460 non-null   int64 \n",
      "dtypes: int64(35), object(27)\n",
      "memory usage: 707.3+ KB\n"
     ]
    }
   ],
   "source": [
    "housing_df.info()"
   ]
  },
  {
   "cell_type": "code",
   "execution_count": 13,
   "id": "89c1ff6a",
   "metadata": {},
   "outputs": [
    {
     "name": "stderr",
     "output_type": "stream",
     "text": [
      "C:\\Users\\thewa\\AppData\\Local\\Temp\\ipykernel_15296\\3415720448.py:1: DeprecationWarning: `np.int` is a deprecated alias for the builtin `int`. To silence this warning, use `int` by itself. Doing this will not modify any behavior and is safe. When replacing `np.int`, you may wish to use e.g. `np.int64` or `np.int32` to specify the precision. If you wish to review your current use, check the release note link for additional information.\n",
      "Deprecated in NumPy 1.20; for more details and guidance: https://numpy.org/devdocs/release/1.20.0-notes.html#deprecations\n",
      "  housing_df = housing_df.select_dtypes(include=[np.int,np.float])\n",
      "C:\\Users\\thewa\\AppData\\Local\\Temp\\ipykernel_15296\\3415720448.py:1: DeprecationWarning: `np.float` is a deprecated alias for the builtin `float`. To silence this warning, use `float` by itself. Doing this will not modify any behavior and is safe. If you specifically wanted the numpy scalar type, use `np.float64` here.\n",
      "Deprecated in NumPy 1.20; for more details and guidance: https://numpy.org/devdocs/release/1.20.0-notes.html#deprecations\n",
      "  housing_df = housing_df.select_dtypes(include=[np.int,np.float])\n"
     ]
    }
   ],
   "source": [
    "housing_df = housing_df.select_dtypes(include=[np.int,np.float])"
   ]
  },
  {
   "cell_type": "code",
   "execution_count": 15,
   "id": "efbf0625",
   "metadata": {},
   "outputs": [
    {
     "name": "stdout",
     "output_type": "stream",
     "text": [
      "<class 'pandas.core.frame.DataFrame'>\n",
      "RangeIndex: 1460 entries, 0 to 1459\n",
      "Data columns (total 35 columns):\n",
      " #   Column         Non-Null Count  Dtype\n",
      "---  ------         --------------  -----\n",
      " 0   Id             1460 non-null   int64\n",
      " 1   MSSubClass     1460 non-null   int64\n",
      " 2   LotArea        1460 non-null   int64\n",
      " 3   OverallQual    1460 non-null   int64\n",
      " 4   OverallCond    1460 non-null   int64\n",
      " 5   YearBuilt      1460 non-null   int64\n",
      " 6   YearRemodAdd   1460 non-null   int64\n",
      " 7   BsmtFinSF1     1460 non-null   int64\n",
      " 8   BsmtFinSF2     1460 non-null   int64\n",
      " 9   BsmtUnfSF      1460 non-null   int64\n",
      " 10  TotalBsmtSF    1460 non-null   int64\n",
      " 11  1stFlrSF       1460 non-null   int64\n",
      " 12  2ndFlrSF       1460 non-null   int64\n",
      " 13  LowQualFinSF   1460 non-null   int64\n",
      " 14  GrLivArea      1460 non-null   int64\n",
      " 15  BsmtFullBath   1460 non-null   int64\n",
      " 16  BsmtHalfBath   1460 non-null   int64\n",
      " 17  FullBath       1460 non-null   int64\n",
      " 18  HalfBath       1460 non-null   int64\n",
      " 19  BedroomAbvGr   1460 non-null   int64\n",
      " 20  KitchenAbvGr   1460 non-null   int64\n",
      " 21  TotRmsAbvGrd   1460 non-null   int64\n",
      " 22  Fireplaces     1460 non-null   int64\n",
      " 23  GarageCars     1460 non-null   int64\n",
      " 24  GarageArea     1460 non-null   int64\n",
      " 25  WoodDeckSF     1460 non-null   int64\n",
      " 26  OpenPorchSF    1460 non-null   int64\n",
      " 27  EnclosedPorch  1460 non-null   int64\n",
      " 28  3SsnPorch      1460 non-null   int64\n",
      " 29  ScreenPorch    1460 non-null   int64\n",
      " 30  PoolArea       1460 non-null   int64\n",
      " 31  MiscVal        1460 non-null   int64\n",
      " 32  MoSold         1460 non-null   int64\n",
      " 33  YrSold         1460 non-null   int64\n",
      " 34  SalePrice      1460 non-null   int64\n",
      "dtypes: int64(35)\n",
      "memory usage: 399.3 KB\n"
     ]
    }
   ],
   "source": [
    "housing_df.info()"
   ]
  },
  {
   "cell_type": "code",
   "execution_count": 17,
   "id": "68d1084e",
   "metadata": {},
   "outputs": [],
   "source": [
    "X = housing_df.drop(['Id','SalePrice'],axis=1).values"
   ]
  },
  {
   "cell_type": "code",
   "execution_count": 18,
   "id": "5bd9aa56",
   "metadata": {},
   "outputs": [],
   "source": [
    "y = housing_df['SalePrice'].values"
   ]
  },
  {
   "cell_type": "code",
   "execution_count": 19,
   "id": "f8eae86d",
   "metadata": {},
   "outputs": [
    {
     "data": {
      "text/plain": [
       "(1460, 33)"
      ]
     },
     "execution_count": 19,
     "metadata": {},
     "output_type": "execute_result"
    }
   ],
   "source": [
    "X.shape"
   ]
  },
  {
   "cell_type": "code",
   "execution_count": 20,
   "id": "978779f4",
   "metadata": {},
   "outputs": [
    {
     "data": {
      "text/plain": [
       "(1460,)"
      ]
     },
     "execution_count": 20,
     "metadata": {},
     "output_type": "execute_result"
    }
   ],
   "source": [
    "y.shape"
   ]
  },
  {
   "cell_type": "code",
   "execution_count": 21,
   "id": "e0a8c784",
   "metadata": {},
   "outputs": [],
   "source": [
    "from sklearn.feature_selection import mutual_info_regression\n"
   ]
  },
  {
   "cell_type": "code",
   "execution_count": 22,
   "id": "0392f16b",
   "metadata": {},
   "outputs": [],
   "source": [
    "MIR = mutual_info_regression(X,y)"
   ]
  },
  {
   "cell_type": "code",
   "execution_count": 23,
   "id": "ff580d8e",
   "metadata": {},
   "outputs": [
    {
     "data": {
      "text/plain": [
       "array([0.05222665, 0.08734934, 0.51487814, 0.11059128, 0.26878861,\n",
       "       0.20419161, 0.12036926, 0.        , 0.05326957, 0.25260573,\n",
       "       0.24474083, 0.10508178, 0.        , 0.36274412, 0.01779057,\n",
       "       0.00868415, 0.26681344, 0.07634618, 0.05890269, 0.0323672 ,\n",
       "       0.19147464, 0.16554297, 0.36469104, 0.27763313, 0.05122748,\n",
       "       0.04913822, 0.02625163, 0.        , 0.02274064, 0.00097305,\n",
       "       0.00061503, 0.        , 0.01234157])"
      ]
     },
     "execution_count": 23,
     "metadata": {},
     "output_type": "execute_result"
    }
   ],
   "source": [
    "MIR"
   ]
  },
  {
   "cell_type": "code",
   "execution_count": 24,
   "id": "8c5df1bf",
   "metadata": {},
   "outputs": [
    {
     "data": {
      "text/plain": [
       "33"
      ]
     },
     "execution_count": 24,
     "metadata": {},
     "output_type": "execute_result"
    }
   ],
   "source": [
    "len(MIR)"
   ]
  },
  {
   "cell_type": "code",
   "execution_count": 28,
   "id": "df131860",
   "metadata": {},
   "outputs": [
    {
     "data": {
      "text/plain": [
       "33"
      ]
     },
     "execution_count": 28,
     "metadata": {},
     "output_type": "execute_result"
    }
   ],
   "source": [
    "len(housing_df.columns[1:-1])"
   ]
  },
  {
   "cell_type": "code",
   "execution_count": 31,
   "id": "cdeb2b88",
   "metadata": {},
   "outputs": [],
   "source": [
    "names_independent_var = housing_df.columns[1:-1]"
   ]
  },
  {
   "cell_type": "code",
   "execution_count": 32,
   "id": "fbe97bac",
   "metadata": {},
   "outputs": [],
   "source": [
    "MIR_ser = pd.Series(MIR)"
   ]
  },
  {
   "cell_type": "code",
   "execution_count": 33,
   "id": "fae4b4fe",
   "metadata": {},
   "outputs": [
    {
     "data": {
      "text/plain": [
       "0     0.052227\n",
       "1     0.087349\n",
       "2     0.514878\n",
       "3     0.110591\n",
       "4     0.268789\n",
       "5     0.204192\n",
       "6     0.120369\n",
       "7     0.000000\n",
       "8     0.053270\n",
       "9     0.252606\n",
       "10    0.244741\n",
       "11    0.105082\n",
       "12    0.000000\n",
       "13    0.362744\n",
       "14    0.017791\n",
       "15    0.008684\n",
       "16    0.266813\n",
       "17    0.076346\n",
       "18    0.058903\n",
       "19    0.032367\n",
       "20    0.191475\n",
       "21    0.165543\n",
       "22    0.364691\n",
       "23    0.277633\n",
       "24    0.051227\n",
       "25    0.049138\n",
       "26    0.026252\n",
       "27    0.000000\n",
       "28    0.022741\n",
       "29    0.000973\n",
       "30    0.000615\n",
       "31    0.000000\n",
       "32    0.012342\n",
       "dtype: float64"
      ]
     },
     "execution_count": 33,
     "metadata": {},
     "output_type": "execute_result"
    }
   ],
   "source": [
    "MIR_ser"
   ]
  },
  {
   "cell_type": "code",
   "execution_count": 34,
   "id": "0bfe6a8a",
   "metadata": {},
   "outputs": [],
   "source": [
    "MIR_ser.index = names_independent_var "
   ]
  },
  {
   "cell_type": "code",
   "execution_count": 35,
   "id": "5c636c33",
   "metadata": {},
   "outputs": [
    {
     "data": {
      "text/plain": [
       "MSSubClass       0.052227\n",
       "LotArea          0.087349\n",
       "OverallQual      0.514878\n",
       "OverallCond      0.110591\n",
       "YearBuilt        0.268789\n",
       "YearRemodAdd     0.204192\n",
       "BsmtFinSF1       0.120369\n",
       "BsmtFinSF2       0.000000\n",
       "BsmtUnfSF        0.053270\n",
       "TotalBsmtSF      0.252606\n",
       "1stFlrSF         0.244741\n",
       "2ndFlrSF         0.105082\n",
       "LowQualFinSF     0.000000\n",
       "GrLivArea        0.362744\n",
       "BsmtFullBath     0.017791\n",
       "BsmtHalfBath     0.008684\n",
       "FullBath         0.266813\n",
       "HalfBath         0.076346\n",
       "BedroomAbvGr     0.058903\n",
       "KitchenAbvGr     0.032367\n",
       "TotRmsAbvGrd     0.191475\n",
       "Fireplaces       0.165543\n",
       "GarageCars       0.364691\n",
       "GarageArea       0.277633\n",
       "WoodDeckSF       0.051227\n",
       "OpenPorchSF      0.049138\n",
       "EnclosedPorch    0.026252\n",
       "3SsnPorch        0.000000\n",
       "ScreenPorch      0.022741\n",
       "PoolArea         0.000973\n",
       "MiscVal          0.000615\n",
       "MoSold           0.000000\n",
       "YrSold           0.012342\n",
       "dtype: float64"
      ]
     },
     "execution_count": 35,
     "metadata": {},
     "output_type": "execute_result"
    }
   ],
   "source": [
    "MIR_ser"
   ]
  },
  {
   "cell_type": "code",
   "execution_count": 36,
   "id": "4c0bea2a",
   "metadata": {},
   "outputs": [
    {
     "data": {
      "text/plain": [
       "OverallQual      0.514878\n",
       "GarageCars       0.364691\n",
       "GrLivArea        0.362744\n",
       "GarageArea       0.277633\n",
       "YearBuilt        0.268789\n",
       "FullBath         0.266813\n",
       "TotalBsmtSF      0.252606\n",
       "1stFlrSF         0.244741\n",
       "YearRemodAdd     0.204192\n",
       "TotRmsAbvGrd     0.191475\n",
       "Fireplaces       0.165543\n",
       "BsmtFinSF1       0.120369\n",
       "OverallCond      0.110591\n",
       "2ndFlrSF         0.105082\n",
       "LotArea          0.087349\n",
       "HalfBath         0.076346\n",
       "BedroomAbvGr     0.058903\n",
       "BsmtUnfSF        0.053270\n",
       "MSSubClass       0.052227\n",
       "WoodDeckSF       0.051227\n",
       "OpenPorchSF      0.049138\n",
       "KitchenAbvGr     0.032367\n",
       "EnclosedPorch    0.026252\n",
       "ScreenPorch      0.022741\n",
       "BsmtFullBath     0.017791\n",
       "YrSold           0.012342\n",
       "BsmtHalfBath     0.008684\n",
       "PoolArea         0.000973\n",
       "MiscVal          0.000615\n",
       "LowQualFinSF     0.000000\n",
       "BsmtFinSF2       0.000000\n",
       "3SsnPorch        0.000000\n",
       "MoSold           0.000000\n",
       "dtype: float64"
      ]
     },
     "execution_count": 36,
     "metadata": {},
     "output_type": "execute_result"
    }
   ],
   "source": [
    "MIR_ser.sort_values(ascending=False)"
   ]
  },
  {
   "cell_type": "code",
   "execution_count": 38,
   "id": "37a5cf32",
   "metadata": {},
   "outputs": [
    {
     "name": "stdout",
     "output_type": "stream",
     "text": [
      "MSSubClass\n",
      "LotArea\n",
      "OverallQual\n",
      "OverallCond\n",
      "YearBuilt\n",
      "YearRemodAdd\n",
      "BsmtFinSF1\n",
      "BsmtFinSF2\n",
      "BsmtUnfSF\n",
      "TotalBsmtSF\n",
      "1stFlrSF\n",
      "2ndFlrSF\n",
      "LowQualFinSF\n",
      "GrLivArea\n",
      "BsmtFullBath\n",
      "BsmtHalfBath\n",
      "FullBath\n",
      "HalfBath\n",
      "BedroomAbvGr\n",
      "KitchenAbvGr\n",
      "TotRmsAbvGrd\n",
      "Fireplaces\n",
      "GarageCars\n",
      "GarageArea\n",
      "WoodDeckSF\n",
      "OpenPorchSF\n",
      "EnclosedPorch\n",
      "3SsnPorch\n",
      "ScreenPorch\n",
      "PoolArea\n",
      "MiscVal\n",
      "MoSold\n",
      "YrSold\n"
     ]
    }
   ],
   "source": [
    "for i in names_independent_var:\n",
    "    print(i)\n",
    "    "
   ]
  },
  {
   "cell_type": "code",
   "execution_count": 39,
   "id": "a8b26c4f",
   "metadata": {},
   "outputs": [
    {
     "name": "stdout",
     "output_type": "stream",
     "text": [
      "name is MSSubClass\n",
      "name is LotArea\n",
      "name is OverallQual\n",
      "name is OverallCond\n",
      "name is YearBuilt\n",
      "name is YearRemodAdd\n",
      "name is BsmtFinSF1\n",
      "name is BsmtFinSF2\n",
      "name is BsmtUnfSF\n",
      "name is TotalBsmtSF\n",
      "name is 1stFlrSF\n",
      "name is 2ndFlrSF\n",
      "name is LowQualFinSF\n",
      "name is GrLivArea\n",
      "name is BsmtFullBath\n",
      "name is BsmtHalfBath\n",
      "name is FullBath\n",
      "name is HalfBath\n",
      "name is BedroomAbvGr\n",
      "name is KitchenAbvGr\n",
      "name is TotRmsAbvGrd\n",
      "name is Fireplaces\n",
      "name is GarageCars\n",
      "name is GarageArea\n",
      "name is WoodDeckSF\n",
      "name is OpenPorchSF\n",
      "name is EnclosedPorch\n",
      "name is 3SsnPorch\n",
      "name is ScreenPorch\n",
      "name is PoolArea\n",
      "name is MiscVal\n",
      "name is MoSold\n",
      "name is YrSold\n"
     ]
    }
   ],
   "source": [
    "for i in names_independent_var:\n",
    "    print(f\"name is {i}\")\n",
    "    "
   ]
  },
  {
   "cell_type": "code",
   "execution_count": 41,
   "id": "7cca9692",
   "metadata": {},
   "outputs": [
    {
     "name": "stdout",
     "output_type": "stream",
     "text": [
      "name is MSSubClass and significance is 0.052226648520469876\n",
      "name is LotArea and significance is 0.08734934432895058\n",
      "name is OverallQual and significance is 0.5148781373061551\n",
      "name is OverallCond and significance is 0.11059127566075899\n",
      "name is YearBuilt and significance is 0.26878860928899284\n",
      "name is YearRemodAdd and significance is 0.20419160593592212\n",
      "name is BsmtFinSF1 and significance is 0.12036925584506686\n",
      "name is BsmtFinSF2 and significance is 0.0\n",
      "name is BsmtUnfSF and significance is 0.05326957377396058\n",
      "name is TotalBsmtSF and significance is 0.25260573246734186\n",
      "name is 1stFlrSF and significance is 0.24474082890468374\n",
      "name is 2ndFlrSF and significance is 0.10508178131496071\n",
      "name is LowQualFinSF and significance is 0.0\n",
      "name is GrLivArea and significance is 0.3627441207492095\n",
      "name is BsmtFullBath and significance is 0.017790574366414624\n",
      "name is BsmtHalfBath and significance is 0.008684148566978411\n",
      "name is FullBath and significance is 0.2668134408605858\n",
      "name is HalfBath and significance is 0.07634617760025608\n",
      "name is BedroomAbvGr and significance is 0.05890268594641501\n",
      "name is KitchenAbvGr and significance is 0.03236720231632417\n",
      "name is TotRmsAbvGrd and significance is 0.1914746391713975\n",
      "name is Fireplaces and significance is 0.16554297036379695\n",
      "name is GarageCars and significance is 0.3646910351385473\n",
      "name is GarageArea and significance is 0.2776331293670551\n",
      "name is WoodDeckSF and significance is 0.05122747877605116\n",
      "name is OpenPorchSF and significance is 0.04913822161016457\n",
      "name is EnclosedPorch and significance is 0.026251632129428604\n",
      "name is 3SsnPorch and significance is 0.0\n",
      "name is ScreenPorch and significance is 0.022740643018289042\n",
      "name is PoolArea and significance is 0.000973045090728375\n",
      "name is MiscVal and significance is 0.0006150297427429674\n",
      "name is MoSold and significance is 0.0\n",
      "name is YrSold and significance is 0.012341566061324638\n"
     ]
    }
   ],
   "source": [
    "useful_names = []\n",
    "for i in names_independent_var:\n",
    "    print(f\"name is {i} and significance is {MIR_ser[i]}\")\n",
    "    if MIR_ser[i] >= 0.2:\n",
    "        useful_names.append(i)\n",
    "    "
   ]
  },
  {
   "cell_type": "code",
   "execution_count": 42,
   "id": "989caf8a",
   "metadata": {},
   "outputs": [],
   "source": [
    "useful_names = []\n",
    "for i in names_independent_var:\n",
    "    if MIR_ser[i] >= 0.2:\n",
    "        useful_names.append(i)\n",
    "    "
   ]
  },
  {
   "cell_type": "code",
   "execution_count": 43,
   "id": "e1ff86da",
   "metadata": {},
   "outputs": [
    {
     "data": {
      "text/plain": [
       "['OverallQual',\n",
       " 'YearBuilt',\n",
       " 'YearRemodAdd',\n",
       " 'TotalBsmtSF',\n",
       " '1stFlrSF',\n",
       " 'GrLivArea',\n",
       " 'FullBath',\n",
       " 'GarageCars',\n",
       " 'GarageArea']"
      ]
     },
     "execution_count": 43,
     "metadata": {},
     "output_type": "execute_result"
    }
   ],
   "source": [
    "useful_names"
   ]
  },
  {
   "cell_type": "code",
   "execution_count": 44,
   "id": "fc1e10c0",
   "metadata": {},
   "outputs": [
    {
     "data": {
      "text/plain": [
       "(1460, 33)"
      ]
     },
     "execution_count": 44,
     "metadata": {},
     "output_type": "execute_result"
    }
   ],
   "source": [
    "X.shape"
   ]
  },
  {
   "cell_type": "code",
   "execution_count": 47,
   "id": "d13b873a",
   "metadata": {},
   "outputs": [],
   "source": [
    "X_new = housing_df[useful_names].values"
   ]
  },
  {
   "cell_type": "code",
   "execution_count": 48,
   "id": "213e643d",
   "metadata": {},
   "outputs": [
    {
     "data": {
      "text/plain": [
       "(1460, 9)"
      ]
     },
     "execution_count": 48,
     "metadata": {},
     "output_type": "execute_result"
    }
   ],
   "source": [
    "X_new.shape"
   ]
  },
  {
   "cell_type": "code",
   "execution_count": 49,
   "id": "8e9cf493",
   "metadata": {},
   "outputs": [
    {
     "data": {
      "text/plain": [
       "0.8148222694890437"
      ]
     },
     "execution_count": 49,
     "metadata": {},
     "output_type": "execute_result"
    }
   ],
   "source": [
    "from sklearn.model_selection import train_test_split\n",
    "x_train,x_test,y_train,y_test = train_test_split(X,y,test_size=0.2,random_state=50)\n",
    "from sklearn.linear_model import LinearRegression\n",
    "from sklearn.metrics import r2_score\n",
    "lr = LinearRegression()\n",
    "lr.fit(x_train,y_train)\n",
    "y_pred = lr.predict(x_test)\n",
    "r2_score(y_pred,y_test)"
   ]
  },
  {
   "cell_type": "code",
   "execution_count": 50,
   "id": "83fd388d",
   "metadata": {},
   "outputs": [
    {
     "data": {
      "text/plain": [
       "0.7748885033735687"
      ]
     },
     "execution_count": 50,
     "metadata": {},
     "output_type": "execute_result"
    }
   ],
   "source": [
    "from sklearn.model_selection import train_test_split\n",
    "x_train,x_test,y_train,y_test = train_test_split(X_new,y,test_size=0.2,random_state=50)\n",
    "from sklearn.linear_model import LinearRegression\n",
    "from sklearn.metrics import r2_score\n",
    "lr = LinearRegression()\n",
    "lr.fit(x_train,y_train)\n",
    "y_pred = lr.predict(x_test)\n",
    "r2_score(y_pred,y_test)"
   ]
  },
  {
   "cell_type": "code",
   "execution_count": 53,
   "id": "2517dacb",
   "metadata": {},
   "outputs": [
    {
     "data": {
      "text/plain": [
       "0.7950795895470665"
      ]
     },
     "execution_count": 53,
     "metadata": {},
     "output_type": "execute_result"
    }
   ],
   "source": [
    "useful_names = []\n",
    "for i in names_independent_var:\n",
    "    if MIR_ser[i] >= 0.1:\n",
    "        useful_names.append(i)\n",
    "len(useful_names)\n",
    "X_new = housing_df[useful_names].values\n",
    "from sklearn.model_selection import train_test_split\n",
    "x_train,x_test,y_train,y_test = train_test_split(X_new,y,test_size=0.2,random_state=50)\n",
    "from sklearn.linear_model import LinearRegression\n",
    "from sklearn.metrics import r2_score\n",
    "lr = LinearRegression()\n",
    "lr.fit(x_train,y_train)\n",
    "y_pred = lr.predict(x_test)\n",
    "r2_score(y_pred,y_test)"
   ]
  },
  {
   "cell_type": "code",
   "execution_count": null,
   "id": "0241cf05",
   "metadata": {},
   "outputs": [],
   "source": []
  }
 ],
 "metadata": {
  "kernelspec": {
   "display_name": "Python 3 (ipykernel)",
   "language": "python",
   "name": "python3"
  },
  "language_info": {
   "codemirror_mode": {
    "name": "ipython",
    "version": 3
   },
   "file_extension": ".py",
   "mimetype": "text/x-python",
   "name": "python",
   "nbconvert_exporter": "python",
   "pygments_lexer": "ipython3",
   "version": "3.9.13"
  }
 },
 "nbformat": 4,
 "nbformat_minor": 5
}
