{
 "cells": [
  {
   "cell_type": "code",
   "execution_count": 101,
   "id": "58de6f01",
   "metadata": {},
   "outputs": [],
   "source": [
    "import pandas as pd\n",
    "import numpy as np \n",
    "data = pd.read_csv('E:\\\\My Documents\\\\Machine Learning\\\\DataSets/housing.csv')\n",
    "data = data.select_dtypes(include = [np.int64,np.float64])\n",
    "data = data.dropna()\n",
    "X = data.drop(['Id','SalePrice'],axis = 1).values\n",
    "y = data['SalePrice'].values"
   ]
  },
  {
   "cell_type": "code",
   "execution_count": 102,
   "id": "33468ec4",
   "metadata": {},
   "outputs": [],
   "source": [
    "from sklearn.feature_selection import SelectKBest\n",
    "from sklearn.feature_selection import mutual_info_regression"
   ]
  },
  {
   "cell_type": "code",
   "execution_count": 103,
   "id": "9df896fd",
   "metadata": {},
   "outputs": [],
   "source": [
    "#help(SelectKBest)"
   ]
  },
  {
   "cell_type": "code",
   "execution_count": 104,
   "id": "94ca05bf",
   "metadata": {},
   "outputs": [],
   "source": [
    "usefulData = SelectKBest(mutual_info_regression,k = 3).fit_transform(X,y)"
   ]
  },
  {
   "cell_type": "code",
   "execution_count": 105,
   "id": "99782cb4",
   "metadata": {},
   "outputs": [
    {
     "data": {
      "text/plain": [
       "array([[   7., 2003., 1710.],\n",
       "       [   6., 1976., 1262.],\n",
       "       [   7., 2001., 1786.],\n",
       "       ...,\n",
       "       [   7., 1941., 2340.],\n",
       "       [   5., 1950., 1078.],\n",
       "       [   5., 1965., 1256.]])"
      ]
     },
     "execution_count": 105,
     "metadata": {},
     "output_type": "execute_result"
    }
   ],
   "source": [
    "usefulData"
   ]
  },
  {
   "cell_type": "code",
   "execution_count": null,
   "id": "0bc889be",
   "metadata": {},
   "outputs": [],
   "source": []
  }
 ],
 "metadata": {
  "kernelspec": {
   "display_name": "Python 3 (ipykernel)",
   "language": "python",
   "name": "python3"
  },
  "language_info": {
   "codemirror_mode": {
    "name": "ipython",
    "version": 3
   },
   "file_extension": ".py",
   "mimetype": "text/x-python",
   "name": "python",
   "nbconvert_exporter": "python",
   "pygments_lexer": "ipython3",
   "version": "3.9.13"
  }
 },
 "nbformat": 4,
 "nbformat_minor": 5
}
